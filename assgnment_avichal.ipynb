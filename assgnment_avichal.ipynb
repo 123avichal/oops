{
 "cells": [
  {
   "cell_type": "code",
   "execution_count": null,
   "id": "64e36c7b-dea4-4aca-8e7f-b13bb7e2115f",
   "metadata": {},
   "outputs": [],
   "source": [
    "#Q1, Create a vehicle class with an init method having instance variables as name_of_vehicle, max_speed\n",
    "#and average_of_vehicle."
   ]
  },
  {
   "cell_type": "code",
   "execution_count": 110,
   "id": "aab45dd4-94ba-4a64-a063-70e82be2c3ca",
   "metadata": {},
   "outputs": [],
   "source": [
    "class vehicle:\n",
    "    def __init__(self,name_of_vehicle,max_speed,average_of_vehicle):\n",
    "        self. name_of_vehicle= name_of_vehicle\n",
    "        self. max_speed=max_speed\n",
    "        self.average_of_vehicle=average_of_vehicle\n",
    "        \n",
    "    def return_vehicle_details(self):\n",
    "         return name_of_vehicle, max_speed,average_of_vehicle"
   ]
  },
  {
   "cell_type": "code",
   "execution_count": 111,
   "id": "6c754a49-c013-4a4d-ba5a-0079c4aee85d",
   "metadata": {},
   "outputs": [],
   "source": [
    "a=vehicle(\"fortuner\",180,18)"
   ]
  },
  {
   "cell_type": "code",
   "execution_count": 112,
   "id": "3882c892-7635-4e8a-b755-26141f43732f",
   "metadata": {},
   "outputs": [
    {
     "data": {
      "text/plain": [
       "18"
      ]
     },
     "execution_count": 112,
     "metadata": {},
     "output_type": "execute_result"
    }
   ],
   "source": [
    "a.average_of_vehicle"
   ]
  },
  {
   "cell_type": "code",
   "execution_count": 113,
   "id": "1d0b7e5d-3fa3-428d-ab38-228673e1a696",
   "metadata": {},
   "outputs": [
    {
     "data": {
      "text/plain": [
       "180"
      ]
     },
     "execution_count": 113,
     "metadata": {},
     "output_type": "execute_result"
    }
   ],
   "source": [
    "a.max_speed"
   ]
  },
  {
   "cell_type": "code",
   "execution_count": 72,
   "id": "c6ad02ac-be38-4560-8bfa-71d17c821f66",
   "metadata": {},
   "outputs": [
    {
     "data": {
      "text/plain": [
       "'fortuner'"
      ]
     },
     "execution_count": 72,
     "metadata": {},
     "output_type": "execute_result"
    }
   ],
   "source": [
    "a.name_of_vehicle"
   ]
  },
  {
   "cell_type": "code",
   "execution_count": null,
   "id": "9e74c6fc-4e15-4706-8db7-468879837a18",
   "metadata": {},
   "outputs": [],
   "source": []
  },
  {
   "cell_type": "code",
   "execution_count": 74,
   "id": "90e4ec78-bc1a-40d7-8a05-977039c2b422",
   "metadata": {},
   "outputs": [],
   "source": [
    "#Q2. Create a child class car from the vehicle class created in Que 1, which will inherit the vehicle class.\n",
    "#Create a method named seating_capacity which takes capacity as an argument and returns the name of\n",
    "#the vehicle and its seating capacity."
   ]
  },
  {
   "cell_type": "code",
   "execution_count": null,
   "id": "aa153497-ce3e-4da4-ad8c-9b5f7e043170",
   "metadata": {},
   "outputs": [],
   "source": [
    "class vehicle:\n",
    "    def __init__(self,name_of_vehicle,max_speed,average_of_vehicle):\n",
    "        self. name_of_vehicle= name_of_vehicle\n",
    "        self. max_speed=max_speed\n",
    "        self.average_of_vehicle=average_of_vehicle\n",
    "        \n",
    "    def vehicle_details(self):\n",
    "         return name_of_vehicle, max_speed,average_of_vehicle"
   ]
  },
  {
   "cell_type": "code",
   "execution_count": 104,
   "id": "5f402727-441d-430e-846f-05c881298913",
   "metadata": {},
   "outputs": [],
   "source": [
    "class car(vehicle):\n",
    "    def seating_capacity(self):\n",
    "        return \"name of the vehicle-fortuner, seating-capacity-8\""
   ]
  },
  {
   "cell_type": "code",
   "execution_count": 105,
   "id": "9ea90ffa-270d-49e0-a59a-b8a7022dc3b3",
   "metadata": {},
   "outputs": [],
   "source": [
    "car=car(\"fortuner\",180,34)"
   ]
  },
  {
   "cell_type": "code",
   "execution_count": 106,
   "id": "60357966-2c5f-4864-b190-62bbdbbf37e5",
   "metadata": {},
   "outputs": [
    {
     "data": {
      "text/plain": [
       "'fortuner'"
      ]
     },
     "execution_count": 106,
     "metadata": {},
     "output_type": "execute_result"
    }
   ],
   "source": [
    "car.name_of_vehicle"
   ]
  },
  {
   "cell_type": "code",
   "execution_count": 108,
   "id": "d86fad65-c716-4c80-be16-02a6df90910d",
   "metadata": {},
   "outputs": [
    {
     "data": {
      "text/plain": [
       "'name of the vehicle-fortuner, seating-capacity-8'"
      ]
     },
     "execution_count": 108,
     "metadata": {},
     "output_type": "execute_result"
    }
   ],
   "source": [
    "car.seating_capacity()"
   ]
  },
  {
   "cell_type": "code",
   "execution_count": null,
   "id": "f2ec3199-2926-4f91-a72e-c2fefbc4b9e7",
   "metadata": {},
   "outputs": [],
   "source": []
  },
  {
   "cell_type": "code",
   "execution_count": null,
   "id": "7b822f34-bc97-4ff0-8aa5-6a03e9110b33",
   "metadata": {},
   "outputs": [],
   "source": [
    "Q3. What is multiple inheritance? Write a python code to demonstrate multiple inheritance."
   ]
  },
  {
   "cell_type": "markdown",
   "id": "704dda06-4f73-4bc8-a080-c144a4382e8f",
   "metadata": {},
   "source": [
    "Multilevel Inheritance in Python is a type of Inheritance that involves inheriting a class that has already inherited some other class."
   ]
  },
  {
   "cell_type": "code",
   "execution_count": 136,
   "id": "2fac6a04-f5e0-4f05-a828-5d9c0a64fccf",
   "metadata": {},
   "outputs": [],
   "source": [
    "class parent_details:\n",
    "    pass"
   ]
  },
  {
   "cell_type": "code",
   "execution_count": 131,
   "id": "cef1e330-004f-46b0-ae19-7d0b932a1cc8",
   "metadata": {},
   "outputs": [],
   "source": [
    "class father_details( parent_details):\n",
    "    def father_gene(self):\n",
    "        return \"this is father gene\""
   ]
  },
  {
   "cell_type": "code",
   "execution_count": 132,
   "id": "87da908f-c154-420f-8aae-b24e373d9eb7",
   "metadata": {},
   "outputs": [],
   "source": [
    "class mother_details( father_details):\n",
    "    def mother_gene(self):\n",
    "        return \"this is mother gene\""
   ]
  },
  {
   "cell_type": "code",
   "execution_count": 144,
   "id": "09bd3ae2-c8ef-443f-add1-69fa1799333b",
   "metadata": {},
   "outputs": [],
   "source": [
    "class child_details(mother_details ):\n",
    "    def child_gene(self):\n",
    "        return \"this is child gene\""
   ]
  },
  {
   "cell_type": "code",
   "execution_count": 145,
   "id": "b4df2545-c7e0-4ca9-be2c-ff3b8dc0fed2",
   "metadata": {},
   "outputs": [],
   "source": [
    "child_details=child_details()"
   ]
  },
  {
   "cell_type": "code",
   "execution_count": 148,
   "id": "df3cd1fa-f4ed-48bc-952c-11564f5a5574",
   "metadata": {},
   "outputs": [
    {
     "data": {
      "text/plain": [
       "'this is father gene'"
      ]
     },
     "execution_count": 148,
     "metadata": {},
     "output_type": "execute_result"
    }
   ],
   "source": [
    "child_details.father_gene()"
   ]
  },
  {
   "cell_type": "code",
   "execution_count": 150,
   "id": "1a78fe48-fbb2-4149-90eb-ffabf56f77de",
   "metadata": {},
   "outputs": [
    {
     "data": {
      "text/plain": [
       "'this is mother gene'"
      ]
     },
     "execution_count": 150,
     "metadata": {},
     "output_type": "execute_result"
    }
   ],
   "source": [
    "child_details.mother_gene()"
   ]
  },
  {
   "cell_type": "code",
   "execution_count": 151,
   "id": "b1a3a956-da81-4c1b-aa44-9fe85e1ff6e7",
   "metadata": {},
   "outputs": [
    {
     "data": {
      "text/plain": [
       "'this is child gene'"
      ]
     },
     "execution_count": 151,
     "metadata": {},
     "output_type": "execute_result"
    }
   ],
   "source": [
    "child_details.child_gene()"
   ]
  },
  {
   "cell_type": "code",
   "execution_count": null,
   "id": "77d1442a-7ffe-4f60-9d9c-3eda90f8ad16",
   "metadata": {},
   "outputs": [],
   "source": [
    "Q4. What are getter and setter in python? Create a class and create a getter and a setter method in this\n",
    "class."
   ]
  },
  {
   "cell_type": "markdown",
   "id": "3054b4a4-b08d-4e67-965e-d9c31df7c34e",
   "metadata": {},
   "source": [
    "Getter: A method that allows you to access an attribute in a given class. Setter: A method that allows you to set or mutate the value of an attribute in a class"
   ]
  },
  {
   "cell_type": "code",
   "execution_count": 196,
   "id": "8b8b9f72-2782-4759-8fd2-d4f8a10a1a42",
   "metadata": {},
   "outputs": [],
   "source": [
    "class aeroplane_details:\n",
    "    def __init__(self,model,year_of_manufacturing,avg_speed):\n",
    "        self.__model=model\n",
    "        self.__year_of_manufacturing=year_of_manufacturing\n",
    "        self.__avg_speed=0\n",
    "        \n",
    "    def set_speed(self,speed):\n",
    "        self.__avg_speed=0 if speed<0 else speed\n",
    "    def get_speed(self):\n",
    "        return self.__avg_speed"
   ]
  },
  {
   "cell_type": "code",
   "execution_count": 197,
   "id": "c3c965e5-db4b-4cb1-9e04-348f8f145e01",
   "metadata": {},
   "outputs": [],
   "source": [
    "aeroplane_details=aeroplane_details(\"boing1076\",2015,800)"
   ]
  },
  {
   "cell_type": "code",
   "execution_count": 200,
   "id": "713e8b11-5f21-4287-8fb5-4488e39ebebb",
   "metadata": {},
   "outputs": [],
   "source": [
    "aeroplane_details.set_speed(778)"
   ]
  },
  {
   "cell_type": "code",
   "execution_count": 201,
   "id": "1b0e434b-dd89-451d-8588-3e906e9ef5c4",
   "metadata": {},
   "outputs": [
    {
     "data": {
      "text/plain": [
       "778"
      ]
     },
     "execution_count": 201,
     "metadata": {},
     "output_type": "execute_result"
    }
   ],
   "source": [
    "aeroplane_details.get_speed()"
   ]
  },
  {
   "cell_type": "code",
   "execution_count": null,
   "id": "368f554a-76d2-4994-967d-13e3133417e8",
   "metadata": {},
   "outputs": [],
   "source": [
    "Q5.What is method overriding in python? Write a python code to demonstrate method overriding."
   ]
  },
  {
   "cell_type": "code",
   "execution_count": 225,
   "id": "71672dfc-cd81-42b4-94b6-2bbfc0402e7b",
   "metadata": {},
   "outputs": [],
   "source": [
    "import abc\n",
    "class student_details:\n",
    "    @abc.abstractmethod\n",
    "    def name(self):\n",
    "        pass\n",
    "    @abc.abstractmethod\n",
    "    def class_(self):\n",
    "        pass\n",
    "    @abc.abstractmethod\n",
    "    def roll_no(self):\n",
    "        pass"
   ]
  },
  {
   "cell_type": "code",
   "execution_count": 226,
   "id": "65ae249f-f1e9-4d79-9db1-d7dd19a620b8",
   "metadata": {},
   "outputs": [],
   "source": [
    "class avichal_details(student_details):\n",
    "    def  name(self):\n",
    "        return \"avichal is my name\"\n",
    "    def class_(self):\n",
    "        return \" 12th_class\"\n",
    "    def roll_no(self):\n",
    "        return \"1267\""
   ]
  },
  {
   "cell_type": "code",
   "execution_count": 227,
   "id": "fb50117a-6060-4769-942b-0d0bc56b93b0",
   "metadata": {},
   "outputs": [],
   "source": [
    "class  harshit_details(student_details):\n",
    "    def  name(self):\n",
    "        return \"harshit\"\n",
    "    def class_(self):\n",
    "        return \"11th_class\"\n",
    "    def roll_no(self):\n",
    "        return 4512"
   ]
  },
  {
   "cell_type": "code",
   "execution_count": 221,
   "id": "7e9f0a3e-6012-4036-96b7-00fd40e1f01d",
   "metadata": {},
   "outputs": [],
   "source": [
    "harshit_details=harshit_details()"
   ]
  },
  {
   "cell_type": "code",
   "execution_count": 222,
   "id": "df9936f9-049c-4782-b288-3cce55fd8e5c",
   "metadata": {},
   "outputs": [
    {
     "data": {
      "text/plain": [
       "'11th_class'"
      ]
     },
     "execution_count": 222,
     "metadata": {},
     "output_type": "execute_result"
    }
   ],
   "source": [
    "harshit_details.class_()"
   ]
  },
  {
   "cell_type": "code",
   "execution_count": 223,
   "id": "ee114624-05e3-486c-aa18-0843a2ab2ce4",
   "metadata": {},
   "outputs": [
    {
     "data": {
      "text/plain": [
       "4512"
      ]
     },
     "execution_count": 223,
     "metadata": {},
     "output_type": "execute_result"
    }
   ],
   "source": [
    "harshit_details.roll_no()"
   ]
  },
  {
   "cell_type": "code",
   "execution_count": 228,
   "id": "00296484-5041-4742-88f0-61a9e2b17b01",
   "metadata": {},
   "outputs": [],
   "source": [
    "avichal_details=avichal_details()"
   ]
  },
  {
   "cell_type": "code",
   "execution_count": 229,
   "id": "e0e68a35-c27b-41eb-9f4c-98b1000936fa",
   "metadata": {},
   "outputs": [
    {
     "data": {
      "text/plain": [
       "' 12th_class'"
      ]
     },
     "execution_count": 229,
     "metadata": {},
     "output_type": "execute_result"
    }
   ],
   "source": [
    "avichal_details.class_()"
   ]
  },
  {
   "cell_type": "code",
   "execution_count": 230,
   "id": "b88fd1c9-eee4-43d7-bd48-a1a1948f7273",
   "metadata": {},
   "outputs": [
    {
     "data": {
      "text/plain": [
       "'avichal is my name'"
      ]
     },
     "execution_count": 230,
     "metadata": {},
     "output_type": "execute_result"
    }
   ],
   "source": [
    "avichal_details.name()"
   ]
  },
  {
   "cell_type": "code",
   "execution_count": null,
   "id": "56821651-7a61-4890-89d9-ddac76dce648",
   "metadata": {},
   "outputs": [],
   "source": [
    "##Q5.What is method overriding in python? Write a python code to demonstrate method overriding.\n",
    "\n",
    "#Method overriding in Python is when you have two methods with the same name that each perform different tasks. This is an important feature of inheritance in Python. In method overriding, the child class can change its functions that are defined by its ancestral classes.\n",
    "class pwskills:\n",
    "    def employee_name(self):\n",
    "        return \"avichal\""
   ]
  },
  {
   "cell_type": "code",
   "execution_count": 232,
   "id": "217cdfad-3677-43a0-9b43-0166e368abea",
   "metadata": {},
   "outputs": [],
   "source": [
    "class details(pwskills):\n",
    "    def employee_id(self):\n",
    "        return 456"
   ]
  },
  {
   "cell_type": "code",
   "execution_count": 233,
   "id": "4c7ac1d6-10dd-4d23-9448-fc77cac425e7",
   "metadata": {},
   "outputs": [],
   "source": [
    "details=details()"
   ]
  },
  {
   "cell_type": "code",
   "execution_count": 234,
   "id": "9ee058aa-c4e0-4bf1-84b4-7dd0d797aef2",
   "metadata": {},
   "outputs": [
    {
     "data": {
      "text/plain": [
       "456"
      ]
     },
     "execution_count": 234,
     "metadata": {},
     "output_type": "execute_result"
    }
   ],
   "source": [
    "details.employee_id()"
   ]
  },
  {
   "cell_type": "code",
   "execution_count": null,
   "id": "b40be0ab-475d-4029-b624-462c64e6235e",
   "metadata": {},
   "outputs": [],
   "source": []
  }
 ],
 "metadata": {
  "kernelspec": {
   "display_name": "Python 3 (ipykernel)",
   "language": "python",
   "name": "python3"
  },
  "language_info": {
   "codemirror_mode": {
    "name": "ipython",
    "version": 3
   },
   "file_extension": ".py",
   "mimetype": "text/x-python",
   "name": "python",
   "nbconvert_exporter": "python",
   "pygments_lexer": "ipython3",
   "version": "3.10.8"
  }
 },
 "nbformat": 4,
 "nbformat_minor": 5
}
